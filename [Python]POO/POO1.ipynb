{
 "cells": [
  {
   "cell_type": "markdown",
   "id": "925154d3",
   "metadata": {},
   "source": [
    "<img src=\"https://dtidigital-my.sharepoint.com/personal/larissa_carolina_dtidigital_com_br/Documents/Imagens%20LL/logo.png\">"
   ]
  },
  {
   "cell_type": "markdown",
   "id": "0df9c8f1",
   "metadata": {},
   "source": [
    "## Introdução\n",
    "Em 1980, a Programação Orientada a Objetos (POO) se tornou o principal paradigma de programação utilizado na criação de software. O paradigma foi desenvolvido como forma de tratar o rápido aumento no tamanho e complexidade dos sistemas de software e facilitar a modificação desses sistemas grandes e complexos ao longo do tempo.\n",
    "\n",
    "Os paradigmas de programação são uma forma de classificar as linguagens de programação com base em suas características. As linguagens podem ser classificadas em múltiplos paradigmas. A POO é um paradigma de programação no qual podemos pensar em problemas complexos como objetos. Portanto, quando falamos de POO, estamos nos referindo a um conjunto de conceitos e padrões que usamos para resolver problemas com objetos.\n",
    "\n",
    "Um objeto em Python é uma única coleção de dados (atributos) e comportamento (métodos). Em uma analogia simples podemos associar os dados (atributos) como substantivos, enquanto os comportamentos (método) aos verbos. Esta associação é o conceito central da POO. Você constrói objetos que armazenam dados e contêm tipos específicos de funcionalidade.\n",
    "\n",
    "Em um sentido de comparação, na programação procedural o foco é na escrita de funções ou procedimentos que operam sobre os dados. Na programação orientada à objetos o foco é na criação de objetos que contem tanto os dados quanto as funcionalidades.\n",
    "\n",
    "Algumas características da POO:\n",
    "- Torna mais fácil a manutenção do código\n",
    "- Diminui a repetição do código e aumenta a reutilização do mesmo\n",
    "- Simplifica a atividade de debugar\n",
    "- Curva de aprendizado mais acentuada\n",
    "- Preferível em projetos maiores\n",
    "\n",
    "A vantagem mais importante do estilo de orientação à objetos é que ele é mais adequado ao nosso processo mental de agrupamento e mais perto da nossa experiência do mundo real.\n",
    "\n",
    "<img src=\"https://dtidigital-my.sharepoint.com/personal/larissa_carolina_dtidigital_com_br/Documents/Imagens%20LL/objetos.png\">\n",
    "\n",
    "No mundo real nosso método para cozinhar é parte do nosso forno de microondas. Da mesma forma, usamos métodos do telefone celular para enviar um SMS ou ligar e a geladeira para refirgerar os alimentos. As funcionalidades de um objeto do mundo real tendem a ser intrínsecas a esse objeto.\n",
    "\n",
    "\n",
    "## Classe\n",
    "\n",
    "Classes proporcionam uma forma de organizar dados e funcionalidades juntos. Criar uma nova classe cria um novo “tipo” de objeto, permitindo que novas “instâncias” desse tipo sejam produzidas. Cada instância da classe pode ter atributos anexados a ela, para manter seu estado. Instâncias da classe também podem ter métodos (definidos pela classe) para modificar seu estado.\n",
    "\n",
    "Ao criar um objeto necessitamos especificar seus atributos e métodos. Para simplificar esse processo, ao invés de descrevermos apenas um objeto, descreveremos uma classe de objetos que têm os mesmos atributos. Uma classe é como um molde usado para criar objetos, com uma descrição dos atributos que representam o objeto e dos métodos que implementam o seu comportamento. Uma classe é portanto um trecho de código que define os atributos e métodos de um certo tipo de objeto.\n",
    "\n",
    "<img src=\"https://dtidigital-my.sharepoint.com/personal/larissa_carolina_dtidigital_com_br/Documents/Imagens%20LL/construcao_civil.png\">\n",
    "\n",
    "\n",
    "## Atributos e Métodos\n",
    "\n",
    "Os atributos são variáveis internas dentro dos objetos, enquanto os métodos são funções que produzem algum comportamento.\n",
    "\n",
    "## Alguns princípios da POO\n",
    "\n",
    "- **Herança**: A herança nos permite definir várias subclasses a partir de uma classe já definida, é o mecanismo pelo qual estendemos a funcionalidade de uma classe.\n",
    "\n",
    "- **Polimorsfismo:** Definimos Polimorfismo como um princípio a partir do qual as classes derivadas de uma única classe base são capazes de invocar os métodos que, embora apresentem a mesma assinatura, comportam-se de maneira diferente para cada uma das classes derivadas.\n",
    "\n"
   ]
  },
  {
   "cell_type": "markdown",
   "id": "798f4221",
   "metadata": {},
   "source": [
    "# POO no Python\n",
    "\n",
    "## Uma breve revisão sobre objetos\n",
    "Em Python, mesmo que você utilize outros paradigmas de programação, você estará utilizando POO. Isso porque, em python, tudo é um objeto.\n",
    "\n",
    "Um objeto em Python é uma única coleção de dados (atributos) e comportamento (métodos). Dessa forma, uma string é uma coleção de dados (caracteres) e comportamentos (upper(), lower(), etc.). O mesmo se aplica a inteiros, flutuante, booleanos, listas e dicionários.\n"
   ]
  },
  {
   "cell_type": "code",
   "execution_count": 1,
   "id": "16621e43",
   "metadata": {},
   "outputs": [
    {
     "name": "stdout",
     "output_type": "stream",
     "text": [
      "<class 'str'>\n",
      "POO NO LEARNING LOOP DE PYTHON DO CHAPTER DE DADOS\n"
     ]
    }
   ],
   "source": [
    "# String\n",
    "string = \"POO no Learning Loop de Python do Chapter de Dados\"\n",
    "print(type(string))\n",
    "print(string.upper())\n"
   ]
  },
  {
   "cell_type": "code",
   "execution_count": 2,
   "id": "d8dae018",
   "metadata": {},
   "outputs": [
    {
     "name": "stdout",
     "output_type": "stream",
     "text": [
      "<class 'list'>\n"
     ]
    },
    {
     "data": {
      "text/plain": [
       "[5, 7, 9, 15, 20]"
      ]
     },
     "execution_count": 2,
     "metadata": {},
     "output_type": "execute_result"
    }
   ],
   "source": [
    "# Lista\n",
    "lista = [7,20,5,9,15]\n",
    "print(type(lista))\n",
    "lista.sort()\n"
   ]
  },
  {
   "cell_type": "markdown",
   "id": "c852a029",
   "metadata": {},
   "source": [
    "## Classes"
   ]
  },
  {
   "cell_type": "code",
   "execution_count": 7,
   "id": "4efe7b02",
   "metadata": {},
   "outputs": [],
   "source": [
    "#Atributos: cor, função, número de cômodos\n",
    "casa1 = [\"amarela\", \"residência\", 5 ]\n",
    "casa2 = [\"azul\", \"serviços\", 5 ]\n",
    "casa3 = [\"marrom\", \"residência\", 5 ]\n",
    "casa4 = [\"laranja\", \"residência\", 5 ]"
   ]
  },
  {
   "cell_type": "markdown",
   "id": "5ca2e2f0",
   "metadata": {},
   "source": [
    "Além dos objetos já definidos pela linguagem podemos criar os nossos proprios através da definição de **Classes**. \n",
    "\n",
    "Classes são objetos definidos pelo usuário e podem ser criados utilizando o palavra-chave <code>class</code>. A classe irá definir a natureza do objeto, a partir das classes podemos construir instâncias. Uma instância é um objeto específico criado a partir de uma classe particular."
   ]
  },
  {
   "cell_type": "code",
   "execution_count": 3,
   "id": "6782e453",
   "metadata": {},
   "outputs": [
    {
     "name": "stdout",
     "output_type": "stream",
     "text": [
      "<class '__main__.ClasseSimples'>\n"
     ]
    }
   ],
   "source": [
    "# Criando um novo tipo de objeto chamado ClasseSimples\n",
    "class ClasseSimples:\n",
    "    pass\n",
    "\n",
    "# Instance of Sample\n",
    "x = ClasseSimples()\n",
    "\n",
    "print(type(x))"
   ]
  },
  {
   "cell_type": "markdown",
   "id": "f580081d",
   "metadata": {},
   "source": [
    "## Atributos\n",
    "\n",
    "Um **atributo** é uma característica de um objeto, um **método** é uma operação que você pode perfomar com ele.\n",
    "\n",
    "A sintaxe para criar um atributo é:\n",
    "\n",
    "    self.attribute = something\n",
    "    \n",
    "O método __init__() é utilizado para inicializar os atributos de um objeto.\n",
    "\n",
    "Cada atributo em uma definição de classe começa com uma referência ao objeto de instância. É por convenção denominado <code>self</code>.\n"
   ]
  },
  {
   "cell_type": "code",
   "execution_count": 3,
   "id": "dd2e0165",
   "metadata": {},
   "outputs": [],
   "source": [
    "class Dog:\n",
    "    def __init__(self,breed):\n",
    "        self.breed = breed\n",
    "        \n",
    "sam = Dog(breed='Lab')\n",
    "frank = Dog(breed='Huskie')"
   ]
  },
  {
   "cell_type": "code",
   "execution_count": 2,
   "id": "6b74c49d",
   "metadata": {},
   "outputs": [
    {
     "name": "stdout",
     "output_type": "stream",
     "text": [
      "Lab\n",
      "Huskie\n"
     ]
    }
   ],
   "source": [
    "# Digite seu código aqui"
   ]
  },
  {
   "cell_type": "code",
   "execution_count": 4,
   "id": "be039d72",
   "metadata": {},
   "outputs": [
    {
     "data": {
      "text/plain": [
       "'Lab'"
      ]
     },
     "execution_count": 4,
     "metadata": {},
     "output_type": "execute_result"
    }
   ],
   "source": [
    "sam.breed"
   ]
  },
  {
   "cell_type": "markdown",
   "id": "5aaa3c95",
   "metadata": {},
   "source": [
    "Em Python, também existem **atributos de objeto da classe**. Esses atributos são os mesmos para qualquer instância da classe. Por exemplo, poderíamos criar o atributo **species** para a classe Dog. Os cães, independentemente de sua raça, nome ou outros atributos, sempre serão mamíferos. "
   ]
  },
  {
   "cell_type": "code",
   "execution_count": 6,
   "id": "f43feaf4",
   "metadata": {},
   "outputs": [],
   "source": [
    "class Dog:\n",
    "    \n",
    "    # Class Object Attribute\n",
    "    species = 'mammal'\n",
    "    \n",
    "    def __init__(self,breed,name):\n",
    "        self.breed = breed\n",
    "        self.name = name"
   ]
  },
  {
   "cell_type": "code",
   "execution_count": 7,
   "id": "44d33064",
   "metadata": {},
   "outputs": [
    {
     "data": {
      "text/plain": [
       "'mammal'"
      ]
     },
     "execution_count": 7,
     "metadata": {},
     "output_type": "execute_result"
    }
   ],
   "source": [
    "sam = Dog('Lab','Sam')\n",
    "sam.name\n",
    "sam.species"
   ]
  },
  {
   "cell_type": "markdown",
   "id": "9f46d395",
   "metadata": {},
   "source": [
    "## Métodos\n",
    "\n",
    "Métodos são funções definidas dentro de um objeto, são funções proprias daquele tipo de objeto."
   ]
  },
  {
   "cell_type": "code",
   "execution_count": 5,
   "id": "2b524dac",
   "metadata": {},
   "outputs": [
    {
     "data": {
      "text/plain": [
       "2.0"
      ]
     },
     "execution_count": 5,
     "metadata": {},
     "output_type": "execute_result"
    }
   ],
   "source": [
    "class Fracao:\n",
    "    def __init__(self, n, d):\n",
    "        self.num = n\n",
    "        self.den = d\n",
    "\n",
    "    def razao(self):\n",
    "        if self.den != 0:\n",
    "            return self.num / self.den\n",
    "        else:\n",
    "            print(\"Denominador inválido!\")\n",
    "        \n",
    "teste = Fracao(10,5)\n",
    "teste.razao()"
   ]
  },
  {
   "cell_type": "markdown",
   "id": "1f435fb6",
   "metadata": {},
   "source": [
    "## Herança\n",
    "\n",
    "Herança é uma forma de formar novas classes usando classes que já foram definidas. Os benefícios importantes da herança são a reutilização de código e a redução da complexidade de um programa. As classes derivadas ou subclasses (descendentes) substituem ou estendem a funcionalidade das classes básicas ou superclasses (ancestrais)."
   ]
  },
  {
   "cell_type": "code",
   "execution_count": 6,
   "id": "b7fb5ec9",
   "metadata": {},
   "outputs": [
    {
     "data": {
      "text/plain": [
       "'2019'"
      ]
     },
     "execution_count": 6,
     "metadata": {},
     "output_type": "execute_result"
    }
   ],
   "source": [
    "class Veiculo:\n",
    "    funcao = \"Transportar\"\n",
    "    def __init__(self, marca, ano):\n",
    "        self.marca = marca\n",
    "        self.ano = ano\n",
    "        \n",
    "        \n",
    "teste = Veiculo(marca = \"Ford\", ano = \"2019\")\n",
    "teste.ano"
   ]
  },
  {
   "cell_type": "code",
   "execution_count": 10,
   "id": "687bcd54",
   "metadata": {},
   "outputs": [],
   "source": [
    "class Moto(Veiculo):\n",
    "    rodas = 2\n",
    "    def __init__(self, marca, ano, tipo):\n",
    "        Veiculo.__init__(self, marca, ano)\n",
    "        self.tipo = tipo\n",
    "\n",
    "teste = Moto(marca = \"Ford\", ano = \"2019\", tipo = \"Elétrica\")"
   ]
  },
  {
   "cell_type": "code",
   "execution_count": 11,
   "id": "cda3bb65",
   "metadata": {},
   "outputs": [
    {
     "data": {
      "text/plain": [
       "'Ford'"
      ]
     },
     "execution_count": 11,
     "metadata": {},
     "output_type": "execute_result"
    }
   ],
   "source": [
    "teste.marca"
   ]
  },
  {
   "cell_type": "code",
   "execution_count": 12,
   "id": "80c952fd",
   "metadata": {},
   "outputs": [
    {
     "data": {
      "text/plain": [
       "'Transportar'"
      ]
     },
     "execution_count": 12,
     "metadata": {},
     "output_type": "execute_result"
    }
   ],
   "source": [
    "teste.funcao"
   ]
  },
  {
   "cell_type": "markdown",
   "id": "9d8da7f6",
   "metadata": {},
   "source": [
    "## Momento hands on 😊\n",
    "\n",
    "\n",
    "\n",
    "\n",
    "**E aí, como estamos de geometria?**\n",
    "\n",
    "![ChessUrl](https://media2.giphy.com/media/qriH9W51oLsL6/giphy.gif?cid=ecf05e477w9r1v060wepcinglyacu280xagb5orcmtdqw8s1&rid=giphy.gif&ct=g \"chess\")"
   ]
  },
  {
   "cell_type": "markdown",
   "id": "2278bf4e",
   "metadata": {},
   "source": [
    "### Exercício 1:\n",
    "\n",
    "Utilizando POO, crie um programa que aceite as coordenadas de dois pontos e retorne a distância entre esses dois pontos e a inclinação.\n",
    "\n",
    "Se for necessário, aqui vai uma breve revisão de geometria analítica:\n",
    "\n",
    "Distância entre dois pointos --->  $D_{ab} = \\sqrt{(x_{b} - x_{a})^2 + (y_{b} - y_{a})^2} $\n",
    "\n",
    "Inclinação da reta formada por dois pontos ----> $I_{ab} = \\frac{(y_{b} - y_{a})} {(x_{b} - x_{a})} $"
   ]
  },
  {
   "cell_type": "code",
   "execution_count": 8,
   "id": "ff29b881",
   "metadata": {},
   "outputs": [],
   "source": [
    "class Pontos:\n",
    "    \n",
    "    def __init__(self,coor1,coor2):\n",
    "        self.coor1 = coor1\n",
    "        self.coor2 = coor2\n",
    "        \n",
    "    def distancia(self):\n",
    "        x1,y1 = self.coor1\n",
    "        x2,y2 = self.coor2\n",
    "        dis =  round(((x2-x1)**2 + (y2-y1)**2)**0.5, 2)\n",
    "        print(f\"A distância entre os dois pontos fornecidos é {dis}!\")\n",
    "    \n",
    "    def inclinacao(self):\n",
    "        x1,y1 = self.coor1\n",
    "        x2,y2 = self.coor2\n",
    "        inc = round((y2-y1)/(x2-x1), 2)\n",
    "        print(f\"A inclinação da reta formada pelos dois pontos fornecidos é {inc}!\")"
   ]
  },
  {
   "cell_type": "code",
   "execution_count": 9,
   "id": "839dd97c",
   "metadata": {},
   "outputs": [
    {
     "name": "stdout",
     "output_type": "stream",
     "text": [
      "A distância entre os dois pontos fornecidos é 3.61!\n",
      "A inclinação da reta formada pelos dois pontos fornecidos é 0.67!\n"
     ]
    }
   ],
   "source": [
    "coordenada1 = (4,5)\n",
    "coordenada2 = (1,3)\n",
    "teste = Pontos(coordenada1, coordenada2)\n",
    "teste.distancia()\n",
    "teste.inclinacao()"
   ]
  },
  {
   "cell_type": "markdown",
   "id": "58b8272c",
   "metadata": {},
   "source": [
    "### Exercício 2:\n",
    "\n",
    "Utilizando POO, crie um programa que aceite as coordenadas de dois pontos e retorne a distância entre esses dois pontos e a inclinação.\n",
    "\n",
    "Se for necessário, aqui vai uma breve revisão de geometria analítica:\n",
    "\n",
    "- Area de um cilindro --->  $A_{total} = A_{lateral} + 2A_{base} = 2\\pi r (h+r)$ \n",
    "\n",
    "$A_{lateral} = 2\\pi rh$, em que r é  raio e h é a altura.\n",
    "    \n",
    "$A_{base} = \\pi r^2$, em que h é a altura.\n",
    "\n",
    "- Volume do cilindro ----> $Volume = A_{base} h $, em que $A_{base}$ é a área da base e h é a altura."
   ]
  },
  {
   "cell_type": "code",
   "execution_count": 10,
   "id": "6bc767e0",
   "metadata": {},
   "outputs": [],
   "source": [
    "class Cilindro:\n",
    "    \n",
    "    pi=3.14\n",
    "    \n",
    "    def __init__(self,height=1,radius=1):\n",
    "        self.height = height\n",
    "        self.radius = radius\n",
    "        \n",
    "    def area_superficie(self):\n",
    "        area = round((2 * Cilindro.pi * self.radius) * (self.height + self.radius),2)\n",
    "        print(f\"A área da superficie do cilindro é {area}!\")\n",
    "        \n",
    "    def volume(self):\n",
    "        vol = round((Cilindro.pi * self.radius**2) * self.height, 2)\n",
    "        print(f\"O volume do cilindro é {vol}!\")"
   ]
  },
  {
   "cell_type": "code",
   "execution_count": 11,
   "id": "6f851763",
   "metadata": {},
   "outputs": [
    {
     "name": "stdout",
     "output_type": "stream",
     "text": [
      "A área da superficie do cilindro é 94.2!\n",
      "O volume do cilindro é 56.52!\n"
     ]
    }
   ],
   "source": [
    "teste = Cilindro(2,3)\n",
    "teste.area_superficie()\n",
    "teste.volume()"
   ]
  },
  {
   "cell_type": "code",
   "execution_count": null,
   "id": "53438bd8",
   "metadata": {},
   "outputs": [],
   "source": []
  }
 ],
 "metadata": {
  "kernelspec": {
   "display_name": "Python 3 (ipykernel)",
   "language": "python",
   "name": "python3"
  },
  "language_info": {
   "codemirror_mode": {
    "name": "ipython",
    "version": 3
   },
   "file_extension": ".py",
   "mimetype": "text/x-python",
   "name": "python",
   "nbconvert_exporter": "python",
   "pygments_lexer": "ipython3",
   "version": "3.9.5"
  }
 },
 "nbformat": 4,
 "nbformat_minor": 5
}
